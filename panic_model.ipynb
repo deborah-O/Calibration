{
 "cells": [
  {
   "cell_type": "markdown",
   "metadata": {},
   "source": [
    "<center> <h1> Agent-Based Model of Panic</h1> </center>"
   ]
  },
  {
   "cell_type": "markdown",
   "metadata": {},
   "source": [
    "# Imports"
   ]
  },
  {
   "cell_type": "code",
   "execution_count": 1,
   "metadata": {},
   "outputs": [],
   "source": [
    "from copy import deepcopy\n",
    "import random\n",
    "import matplotlib.pyplot as plt\n",
    "import pandas as pd\n",
    "from scipy import stats\n",
    "import statistics\n",
    "import numpy as np\n",
    "import pyabc\n",
    "from pyabc.transition.multivariatenormal import MultivariateNormalTransition\n",
    "\n",
    "random.seed(1234)"
   ]
  },
  {
   "cell_type": "markdown",
   "metadata": {},
   "source": [
    "# Define model class"
   ]
  },
  {
   "cell_type": "code",
   "execution_count": 5,
   "metadata": {},
   "outputs": [],
   "source": [
    "class Model():\n",
    "\n",
    "    def __init__(self, num_of_agents=10, num_iterations=10, mode ='homogeneous', verbose=False):\n",
    "        self.agent_types = ['low', 'moderate', 'high'] \n",
    "        self.num_of_agents = num_of_agents\n",
    "        self.num_iterations = num_iterations\n",
    "        self.mode = mode\n",
    "        self.verbose = verbose\n",
    "\n",
    "        self.alpha = 0.1\n",
    "        \n",
    "        self.gamma = 0.1\n",
    "\n",
    "        self.beta = 0.1\n",
    "        \n",
    "        #creating lists\n",
    "        self.num_infected_per_iteration = []\n",
    "        self.num_low_sus_per_iteration = []\n",
    "        self.num_mod_sus_per_iteration = []\n",
    "        self.num_high_sus_per_iteration = []\n",
    "        \n",
    "        self.num_of_panicked = 0\n",
    "        self.panicked_agents = list()\n",
    "               \n",
    "        #model time\n",
    "        self.time = 0\n",
    "        \n",
    "        #create the agents, random.choice allocates agents to a type \n",
    "        self.agents = []\n",
    "        for i in range(num_of_agents):\n",
    "            # adding each new created agent to a list\n",
    "            if self.mode == 'homogeneous' or self.mode == 'heterogeneous':\n",
    "                self.agents.append(Agent(self))\n",
    "            if self.mode == 'adv_heterogeneous':\n",
    "                self.agents.append(Agent(self, agent_types=random.choice(self.agent_types)))\n",
    "    \n",
    "        \n",
    "        # if the model hasn't finished running yet\n",
    "        self.model_finished = False \n",
    "    \n",
    "    def get_num_infected(self):\n",
    "        #gets number of agents that are infected\n",
    "        return len(([ a for a in self.agents if a.state==1 ]))\n",
    "\n",
    "    def get_num_low_sus(self):\n",
    "        return len([ a for a in self.agents if a.state==0 and a.agent_types=='low' ]) \n",
    "    \n",
    "    def get_num_mod_sus(self):\n",
    "        return len([ a for a in self.agents if a.state==0 and a.agent_types=='moderate' ]) \n",
    "    \n",
    "    def get_num_high_sus(self):\n",
    "        return len([ a for a in self.agents if a.state==0 and a.agent_types=='high' ]) \n",
    "    \n",
    "    def run(self):\n",
    "        for t in range(self.num_iterations):\n",
    "            for agent in self.agents: # every agent, in every iteration, moves forward\n",
    "                agent.step()\n",
    "            \n",
    "            if self.verbose:\n",
    "                for i, agent in enumerate(self.agents):\n",
    "                    print('Agent {0}/{1}:'.format(i, self.num_of_agents))    \n",
    "                    if self.mode == 'homogeneous':\n",
    "                        print('my likelihood:{}, my state:{}'.format(agent.likelihood, agent.state))\n",
    "            \n",
    "            self.num_infected_per_iteration.append(self.get_num_infected())\n",
    "#             self.num_low_sus_per_iteration.append(self.get_num_low_sus())\n",
    "#             self.num_mod_sus_per_iteration.append(self.get_num_mod_sus())\n",
    "#             self.num_high_sus_per_iteration.append(self.get_num_high_sus())\n",
    "            if self.verbose:\n",
    "                if self.mode == 'homogeneous' or self.mode == 'heterogeneous':\n",
    "                    print('step: {},  total infected:{}'.format(t, self.get_num_infected()))\n",
    "    #             if self.mode == 'adv_heterogeneous':\n",
    "    #                 print('step: {}, low:{}, mod:{}, high:{}'.format(t, self.get_num_low_sus(), self.get_num_mod_sus(), self.get_num_high_sus()))\n",
    "    \n",
    "            #step time\n",
    "            self.time += 1\n",
    "        \n",
    "        #once each iteration is done, model is finished\n",
    "        self.model_finished = True \n",
    "        \n",
    "        #creating a list of panicked agents, appending new ones after each new step                   \n",
    "        panicked_agents = list()\n",
    "        \n",
    "        for agent in self.agents:\n",
    "            if agent.state == 1:\n",
    "                panicked_agents.append(agent)\n",
    "        self.num_of_panicked = len(panicked_agents)\n",
    "        self.panicked_agents.append(self.num_of_panicked)\n",
    "        \n",
    "        self.mean_panicked = round(statistics.mean(self.panicked_agents))\n",
    "\n",
    "    def graph_num_infected(self):\n",
    "        \"\"\"\n",
    "        Uses matplotlib to create a graph\n",
    "        \"\"\"\n",
    "        if not self.model_finished:\n",
    "            print(\"Can't print the number of infected until the model has finished\")\n",
    "            return\n",
    "        \n",
    "        # Create a figure and an axis (if you want more than one plot in the same\n",
    "        # figure you can adjust the subplots function)\n",
    "        \n",
    "        fig, ax = plt.subplots(num=None, figsize=(5, 3), dpi=128, facecolor='w', edgecolor='k')\n",
    "        \n",
    "        # Do a scatter plot\n",
    "        if self.mode == 'homogeneous':\n",
    "            ax.plot([i for i in range(self.num_iterations)], [i for i in self.num_infected_per_iteration], \"o-\",\n",
    "                    c=\"red\", label=\" Total infected\") \n",
    "            \n",
    "        if self.mode == 'heterogeneous':\n",
    "            ax.plot([i for i in range(self.num_iterations)], [i for i in self.num_infected_per_iteration], \"o-\",\n",
    "                    c=\"red\", label=\" Total infected\") \n",
    "            \n",
    "        if self.mode == 'adv_heterogeneous':\n",
    "            ax.plot([i for i in range(self.num_iterations)], [i for i in self.num_low_sus_per_iteration], \"o-\",\n",
    "                    c=\"green\", label=\"No. Low Sus\")\n",
    "        \n",
    "            ax.plot([i for i in range(self.num_iterations)], [i for i in self.num_mod_sus_per_iteration], \"o-\",\n",
    "                    c=\"orange\", label=\"No. Mod Sus\")\n",
    "                \n",
    "            ax.plot([i for i in range(self.num_iterations)], [i for i in self.num_high_sus_per_iteration], \"o-\",\n",
    "                    c=\"blue\", label=\"No. High Sus\")\n",
    "        \n",
    "        ax.set_title(\"Number of infected per iteration\")\n",
    "        ax.set_ylim(0,len(self.agents)) # limit the y axis\n",
    "        ax.set_xlabel(\"Iteration (time)\")\n",
    "        ax.set_ylabel(\"Number of infected\")\n",
    "        ax.legend(loc='upper left')\n",
    "        \n",
    "        plt.savefig(\"Number of Infected Agents Through Time \", bbox_inches=\"tight\")"
   ]
  },
  {
   "cell_type": "markdown",
   "metadata": {},
   "source": [
    "## Defining agent class"
   ]
  },
  {
   "cell_type": "code",
   "execution_count": 6,
   "metadata": {},
   "outputs": [],
   "source": [
    "class Agent():\n",
    "    \n",
    "    def __init__(self, model, alpha = 0.1, beta = 0.1, gamma= 0.1, agent_types = 'moderate'):\n",
    "        \n",
    "        self.agent_types = agent_types\n",
    "\n",
    "        self.state = 0\n",
    "        \n",
    "        model.alpha = alpha\n",
    "        \n",
    "        model.gamma = gamma\n",
    "\n",
    "        model.beta = beta \n",
    "        \n",
    "        self.likelihood = 0\n",
    "\n",
    "        \n",
    "        self.likelihood_heterogeneous_one = []\n",
    "        self.likelihood_heterogeneous_two = []\n",
    "        \n",
    "        #pointer to the model class\n",
    "        self.model = model\n",
    "        \n",
    "        #For the simple heterogenous simulation, \n",
    "        #agents draw betas from normal distribution\n",
    "        if model.mode == ['heterogeneous']:\n",
    "            self.Beta = self.heterogeneous_model_one_beta\n",
    "\n",
    "        \n",
    "        #For the advanced heterogeneous sim, agents are allocated into a \n",
    "        #class of susceptibility, according to their agent type\n",
    "        self.beta_low = self.low_sus()\n",
    "        self.beta_mod = self.moderate_sus()\n",
    "        self.beta_high = self.high_sus()\n",
    "\n",
    "        r = random.random()\n",
    "        \n",
    "        #creating a list of all susceptibility classes.\n",
    "        self.susceptibility = (self.low_sus, self.moderate_sus, self.high_sus) \n",
    "        \n",
    "        if model.mode == ['adv_heterogenous']:\n",
    "            if self.state == 0: \n",
    "                if random.random() <0.5:\n",
    "                    self.susceptibility = self.low_sus()\n",
    "                elif random.random() == 0.5:\n",
    "                    self.susceptibility = self.moderate_sus()\n",
    "                else:\n",
    "                    self.susceptibility = self.high_sus()\n",
    "       \n",
    "    #Here, we create the different beta functions for the heterogeneous simulations. \n",
    "    def low_sus(self):\n",
    "        return stats.norm.rvs(loc = 0.2, scale = 0.2)\n",
    "        \n",
    "    def moderate_sus(self):\n",
    "        return stats.norm.rvs(loc = 0.4, scale = 0.2)\n",
    "        \n",
    "    def high_sus(self):\n",
    "        return stats.norm.rvs(loc = 0.6, scale = 0.2)\n",
    "\n",
    "    def heterogeneous_model_one_beta(self):\n",
    "        return stats.norm.rvs(loc = 0, scale = 1)\n",
    "    \n",
    "    #Every time the heterogeneous simulations are ran, we update the betas \n",
    "    def update_beta(self):\n",
    "        self.beta_low = self.low_sus()\n",
    "        self.beta_mod = self.moderate_sus()\n",
    "        self.beta_high = self.high_sus()\n",
    "        \n",
    "    def prob(self):\n",
    "        return stats.norm.rvs(loc = 0, scale = 1) \n",
    "\n",
    "    def step(self):\n",
    "        if self.state == 0: \n",
    "            self.homogeneous_model()\n",
    "#             if model.mode == ['heterogeneous']:\n",
    "#                 self.heterogeneous_model_one()\n",
    "#           if model.mode ==['adv_heterogeneous']:\n",
    "#               self.heterogeneous_model_two()\n",
    "                \n",
    "        else:\n",
    "            self.recover()\n",
    "            # print(self.state)\n",
    "             \n",
    "    def homogeneous_model(self):\n",
    "            \n",
    "        num_infected = model.get_num_infected()\n",
    "            \n",
    "        self.likelihood = model.alpha + (num_infected * model.beta)\n",
    "        \n",
    "        r = random.random()\n",
    "        \n",
    "        if r < self.likelihood: \n",
    "            self.state = 1\n",
    "         \n",
    "    def heterogeneous_model_one(self):\n",
    "        num_infected = model.get_num_infected()\n",
    "        \n",
    "        self.likelihood_heterogeneous_one = list()\n",
    "        \n",
    "        if model.mode == ['heterogeneous']:\n",
    "            likelihood = self.alpha + (num_infected * self.heterogeneous_model_one_beta)\n",
    "            \n",
    "            if r < likelihood: \n",
    "                self.state = 1\n",
    "            else:\n",
    "                self.other_agents()\n",
    "                \n",
    "            self.likelihood_heterogeneous_one.append(self.likelihood)\n",
    "    \n",
    "  \n",
    "    def heterogeneous_model_two(self):\n",
    "        num_infected = model.get_num_infected()\n",
    "        \n",
    "        self.update_beta()\n",
    "        \n",
    "        r = random.random()\n",
    "        \n",
    "        self.likelihood_heterogeneous_two = list()\n",
    "        \n",
    "        if model.mode == ['adv_heterogeneous']: \n",
    "            self.likelihood_low_sus = self.alpha + (num_infected * self.beta_low)\n",
    "            self.likelihood_moderate_sus = self.alpha + (num_infected* self.beta_mod)\n",
    "            self.likelihood_high_sus = self.alpha + (num_infected * self.beta_high)\n",
    "            \n",
    "            if self.agent_types == 'low':\n",
    "                if r < self.likelihood_low_sus:\n",
    "                    self.state = 1\n",
    "            elif self.agent_types == 'moderate':\n",
    "                if r < self.likelihood_moderate_sus:\n",
    "                    self.state = 1\n",
    "            else: \n",
    "                self.agent_types =='high'  \n",
    "                if r < self.likelihood_high_sus:\n",
    "                    self.state = 1    \n",
    "    \n",
    "            self.likelihoods_low.append(self.likelihood_low_sus)\n",
    "            self.likelihoods_mod.append(self.likelihood_moderate_sus)\n",
    "            self.likelihoods_high.append(self.likelihood_high_sus)\n",
    "            \n",
    "\n",
    "    def other_agents(self):\n",
    "        if model.num_of_panicked > model.num_of_agents/1.5:\n",
    "            self.state = 1\n",
    "            print(\"I became panicked after seeing others panic\")\n",
    "            \n",
    "    \n",
    "    def recover(self):\n",
    "        r1 = random.random()\n",
    "        if self.state == 1:\n",
    "            if r1 < model.gamma:\n",
    "                self.state = 0\n",
    "            if r1 > 0.8:\n",
    "                self.agent_types == 'low' or self.agent_types == 'moderate'\n",
    "            \n",
    "            else:\n",
    "                self.agent_types =='high'\n",
    "    "
   ]
  },
  {
   "cell_type": "markdown",
   "metadata": {},
   "source": [
    "## Running model"
   ]
  },
  {
   "cell_type": "code",
   "execution_count": 7,
   "metadata": {
    "pycharm": {
     "name": "#%%\n"
    },
    "tags": []
   },
   "outputs": [
    {
     "data": {
      "image/png": "[encoded data removed]",
      "text/plain": [
       "<Figure size 640x384 with 1 Axes>"
      ]
     },
     "metadata": {},
     "output_type": "display_data"
    }
   ],
   "source": [
    "model = Model(num_of_agents=10, num_iterations=10, mode = 'homogeneous')\n",
    "model.run()\n",
    "model.graph_num_infected()"
   ]
  },
  {
   "cell_type": "code",
   "execution_count": 5,
   "metadata": {
    "scrolled": true
   },
   "outputs": [],
   "source": [
    "# model = Model(num_of_agents=100, num_iterations=10)\n",
    "# model.run()\n",
    "# model.graph_num_infected()"
   ]
  },
  {
   "cell_type": "code",
   "execution_count": 6,
   "metadata": {
    "scrolled": true
   },
   "outputs": [],
   "source": [
    "# get_total = []\n",
    "# #This runs the model 100 times, each model executing 10 steps.\n",
    "# for j in range(100):\n",
    "#     # Run the model\n",
    "#     Model(num_of_agents=100, num_iterations=100)\n",
    "#     for i in range(10):\n",
    "#         model.run()\n",
    "\n",
    "#     # Store the results\n",
    "#     for agent in model.agents:\n",
    "#         get_total.append(model.get_num_infected())"
   ]
  },
  {
   "cell_type": "code",
   "execution_count": 7,
   "metadata": {},
   "outputs": [],
   "source": [
    "# plt.rcParams[\"figure.figsize\"] = (20,10)\n",
    "# plt.rcParams.update({'font.size': 22})\n",
    "\n",
    "# plt.hist(get_total, color='#0504aa', alpha=0.7, rwidth=0.85)\n",
    "\n",
    "# plt.grid(axis='y', alpha=0.6)\n",
    "# plt.xlabel('No. Infected')\n",
    "# plt.ylabel('Frequency')\n",
    "# plt.title('Distribution of Number of Infected over Time')"
   ]
  },
  {
   "cell_type": "markdown",
   "metadata": {},
   "source": [
    "## Creating Datasets for Calibration"
   ]
  },
  {
   "cell_type": "code",
   "execution_count": 8,
   "metadata": {
    "scrolled": true
   },
   "outputs": [],
   "source": [
    "# get_total = []\n",
    "# #This runs the model 100 times\n",
    "# for j in range(1):\n",
    "#     # Run the model, each model is run 10 times\n",
    "#     base_model = Model(num_of_agents=100, num_iterations=2000)\n",
    "#     for k in range(1):\n",
    "#         model = deepcopy(base_model)\n",
    "#         model.run()\n",
    "#         #t is number of interations, \n",
    "#         #num_infected is the number of infected per iteration\n",
    "#         #copy_number is the number of times a single model is ran\n",
    "#         #model_number is model number\n",
    "#         for t, i in enumerate(model.num_infected_per_iteration):\n",
    "#             d = {'t': t,\n",
    "#                  'num_infected': i,\n",
    "#                  'copy_number': k,\n",
    "#                  'model_number': j}\n",
    "#             get_total.append(d)"
   ]
  },
  {
   "cell_type": "code",
   "execution_count": null,
   "metadata": {},
   "outputs": [],
   "source": [
    "# df = pd.DataFrame(get_total)\n",
    "# # df.head()"
   ]
  },
  {
   "cell_type": "code",
   "execution_count": null,
   "metadata": {},
   "outputs": [],
   "source": [
    "# df['copy_number'].unique()"
   ]
  },
  {
   "cell_type": "code",
   "execution_count": 11,
   "metadata": {},
   "outputs": [],
   "source": [
    "# num_panicked = df['num_infected']"
   ]
  },
  {
   "cell_type": "code",
   "execution_count": null,
   "metadata": {},
   "outputs": [],
   "source": [
    "# mean = statistics.mean(num_panicked)\n",
    "# sd = statistics.stdev(num_panicked)\n",
    "# print(mean)\n",
    "# print(sd)"
   ]
  },
  {
   "cell_type": "markdown",
   "metadata": {},
   "source": [
    "## ABC"
   ]
  },
  {
   "cell_type": "markdown",
   "metadata": {},
   "source": [
    "### Creating Functions"
   ]
  },
  {
   "cell_type": "code",
   "execution_count": 46,
   "metadata": {},
   "outputs": [],
   "source": [
    "def my_model(input_params_dict):\n",
    "    \"\"\"\n",
    "    Creating the model function that feeds the ABC package my ABM.\n",
    "    This function includes the creation of a dictionary, \n",
    "    which contains the parameter of interest: 'number of panicked' agents\n",
    "    \"\"\"\n",
    "    model = Model(num_of_agents=10, num_iterations=10, mode = 'homogeneous')\n",
    "    model.run()\n",
    "    \n",
    "    input_params_dict[\"param_a\"] = model.get_num_infected()\n",
    "    input_params_dict[\"param_b\"] = model.beta\n",
    "\n",
    "    result = model.get_num_infected()\n",
    "    return {\"model_result\": result}"
   ]
  },
  {
   "cell_type": "code",
   "execution_count": 47,
   "metadata": {},
   "outputs": [],
   "source": [
    "def distance(model_result_dict, observations_dict):\n",
    "    \"\"\"\n",
    "    The function that calculates the absolute difference\n",
    "    between my ABM results and the ABC observations.\n",
    "    \"\"\"\n",
    "    model_result = model_result_dict['model_result'] \n",
    "    observation = observations_dict['observation'] \n",
    "    return abs(model_result - observation)"
   ]
  },
  {
   "cell_type": "code",
   "execution_count": 48,
   "metadata": {},
   "outputs": [],
   "source": [
    "PARAM_A = 90\n",
    "PARAM_B = 0.1"
   ]
  },
  {
   "cell_type": "code",
   "execution_count": 49,
   "metadata": {},
   "outputs": [],
   "source": [
    "truth_model = my_model({\"param_a\": PARAM_A, \"param_b\": PARAM_B})\n",
    "obs = truth_model['model_result']\n",
    "\n",
    "print(f\"Assuming 'truth' parameters are {PARAM_A} and {PARAM_B}. They give a model result of {obs}.\")"
   ]
  },
  {
   "cell_type": "markdown",
   "metadata": {},
   "source": [
    "### Defining Priors"
   ]
  },
  {
   "cell_type": "code",
   "execution_count": 70,
   "metadata": {},
   "outputs": [],
   "source": [
    "\"\"\"\n",
    "Here, I'm assuming that the 'Number of panicked' parameter is normally distributed\n",
    "\"\"\"\n",
    "param_a_rv = pyabc.RV(\"uniform\", 90, 2)\n",
    "param_b_rv = pyabc.RV(\"uniform\", 0, 1)"
   ]
  },
  {
   "cell_type": "code",
   "execution_count": 82,
   "metadata": {},
   "outputs": [
    {
     "data": {
      "image/png": "[encoded data removed]",
      "text/plain": [
       "<Figure size 1080x720 with 1 Axes>"
      ]
     },
     "metadata": {
      "needs_background": "light"
     },
     "output_type": "display_data"
    }
   ],
   "source": [
    "plt.rcParams[\"figure.figsize\"] = (15,10)\n",
    "plt.rcParams.update({'font.size': 22})\n",
    "\n",
    "\"\"\"\n",
    "Visualising this to see if plots are okay. \n",
    "\"\"\"\n",
    "x = np.linspace(-50 ,150, 100)\n",
    "lines = plt.plot(x, pyabc.Distribution(param=param_a_rv).pdf({\"param\": x}), '--',\n",
    "                 label = \"Paremter A\", lw = 3, )\n",
    "lines = plt.plot(x, pyabc.Distribution(param=param_b_rv).pdf({\"param\": x}), ':',\n",
    "                 label = \"Parameter B\", lw = 3)\n",
    "plt.autoscale(tight=True)\n",
    "plt.legend(title=r\"Model parameters\");\n",
    "plt.show()"
   ]
  },
  {
   "cell_type": "code",
   "execution_count": 72,
   "metadata": {},
   "outputs": [],
   "source": [
    "\"\"\"\n",
    "Lower bound is 0, for the returned value\n",
    "\"\"\"\n",
    "priors = pyabc.Distribution(\n",
    "    param_a=pyabc.LowerBoundDecorator(param_a_rv, 0.0),\n",
    "    param_b=pyabc.LowerBoundDecorator(param_b_rv, 0.0))"
   ]
  },
  {
   "cell_type": "markdown",
   "metadata": {},
   "source": [
    "### Running ABC and Visualisations"
   ]
  },
  {
   "cell_type": "code",
   "execution_count": 73,
   "metadata": {},
   "outputs": [
    {
     "name": "stderr",
     "output_type": "stream",
     "text": [
      "INFO:Sampler:Parallelizing the sampling on 4 cores.\n"
     ]
    }
   ],
   "source": [
    "\"\"\"\n",
    "Running the package\n",
    "\"\"\"\n",
    "abc = pyabc.ABCSMC(\n",
    "    models=my_model,  \n",
    "    parameter_priors=priors, \n",
    "    distance_function=distance,\n",
    "    sampler=pyabc.sampler.MulticoreEvalParallelSampler()\n",
    "    #sampler=pyabc.sampler.SingleCoreSampler()\n",
    "    )"
   ]
  },
  {
   "cell_type": "code",
   "execution_count": 74,
   "metadata": {},
   "outputs": [],
   "source": [
    "db_path = (\"sqlite:///\" + \"abc_database.db\")"
   ]
  },
  {
   "cell_type": "code",
   "execution_count": 75,
   "metadata": {},
   "outputs": [
    {
     "name": "stderr",
     "output_type": "stream",
     "text": [
      "INFO:History:Start <ABCSMC id=39, start_time=2021-06-02 14:23:16.412948>\n"
     ]
    },
    {
     "name": "stdout",
     "output_type": "stream",
     "text": [
      "Running new ABC with id <pyabc.storage.history.History object at 0x7f95478f8450>.... \n"
     ]
    }
   ],
   "source": [
    "run_id = abc.new(db_path, {'observation': obs})\n",
    "print(f\"Running new ABC with id {run_id}.... \", flush=True)"
   ]
  },
  {
   "cell_type": "code",
   "execution_count": 80,
   "metadata": {},
   "outputs": [
    {
     "name": "stderr",
     "output_type": "stream",
     "text": [
      "INFO:History:Done <ABCSMC id=39, duration=0:00:36.389335, end_time=2021-06-02 14:23:52.802283>\n"
     ]
    },
    {
     "ename": "TypeError",
     "evalue": "unsupported operand type(s) for +: 'NoneType' and 'NoneType'",
     "output_type": "error",
     "traceback": [
      "\u001b[0;31m---------------------------------------------------------------------------\u001b[0m",
      "\u001b[0;31mTypeError\u001b[0m                                 Traceback (most recent call last)",
      "\u001b[0;32m<ipython-input-80-717f99bee3fb>\u001b[0m in \u001b[0;36m<module>\u001b[0;34m\u001b[0m\n\u001b[0;32m----> 1\u001b[0;31m \u001b[0mabc_history\u001b[0m \u001b[0;34m=\u001b[0m \u001b[0mabc\u001b[0m\u001b[0;34m.\u001b[0m\u001b[0mrun\u001b[0m\u001b[0;34m(\u001b[0m\u001b[0mmax_nr_populations\u001b[0m\u001b[0;34m=\u001b[0m\u001b[0;36m10\u001b[0m\u001b[0;34m,\u001b[0m \u001b[0mminimum_epsilon\u001b[0m\u001b[0;34m=\u001b[0m\u001b[0;36m1.0\u001b[0m\u001b[0;34m)\u001b[0m\u001b[0;34m\u001b[0m\u001b[0;34m\u001b[0m\u001b[0m\n\u001b[0m",
      "\u001b[0;32m~/opt/anaconda3/lib/python3.7/site-packages/pyabc/inference/smc.py\u001b[0m in \u001b[0;36mwrapped_run\u001b[0;34m(self, *args, **kwargs)\u001b[0m\n\u001b[1;32m     43\u001b[0m         \u001b[0;32mtry\u001b[0m\u001b[0;34m:\u001b[0m\u001b[0;34m\u001b[0m\u001b[0;34m\u001b[0m\u001b[0m\n\u001b[1;32m     44\u001b[0m             \u001b[0;31m# the actual run\u001b[0m\u001b[0;34m\u001b[0m\u001b[0;34m\u001b[0m\u001b[0;34m\u001b[0m\u001b[0m\n\u001b[0;32m---> 45\u001b[0;31m             \u001b[0mret\u001b[0m \u001b[0;34m=\u001b[0m \u001b[0mrun\u001b[0m\u001b[0;34m(\u001b[0m\u001b[0mself\u001b[0m\u001b[0;34m,\u001b[0m \u001b[0;34m*\u001b[0m\u001b[0margs\u001b[0m\u001b[0;34m,\u001b[0m \u001b[0;34m**\u001b[0m\u001b[0mkwargs\u001b[0m\u001b[0;34m)\u001b[0m\u001b[0;34m\u001b[0m\u001b[0;34m\u001b[0m\u001b[0m\n\u001b[0m\u001b[1;32m     46\u001b[0m         \u001b[0;32mfinally\u001b[0m\u001b[0;34m:\u001b[0m\u001b[0;34m\u001b[0m\u001b[0;34m\u001b[0m\u001b[0m\n\u001b[1;32m     47\u001b[0m             \u001b[0;31m# close session and store end time\u001b[0m\u001b[0;34m\u001b[0m\u001b[0;34m\u001b[0m\u001b[0;34m\u001b[0m\u001b[0m\n",
      "\u001b[0;32m~/opt/anaconda3/lib/python3.7/site-packages/pyabc/inference/smc.py\u001b[0m in \u001b[0;36mrun\u001b[0;34m(self, minimum_epsilon, max_nr_populations, min_acceptance_rate, max_total_nr_simulations, max_walltime)\u001b[0m\n\u001b[1;32m    649\u001b[0m \u001b[0;34m\u001b[0m\u001b[0m\n\u001b[1;32m    650\u001b[0m         \u001b[0;31m# initialize transitions\u001b[0m\u001b[0;34m\u001b[0m\u001b[0;34m\u001b[0m\u001b[0;34m\u001b[0m\u001b[0m\n\u001b[0;32m--> 651\u001b[0;31m         \u001b[0mself\u001b[0m\u001b[0;34m.\u001b[0m\u001b[0m_fit_transitions\u001b[0m\u001b[0;34m(\u001b[0m\u001b[0mt0\u001b[0m\u001b[0;34m)\u001b[0m\u001b[0;34m\u001b[0m\u001b[0;34m\u001b[0m\u001b[0m\n\u001b[0m\u001b[1;32m    652\u001b[0m         \u001b[0;31m# initialize population size\u001b[0m\u001b[0;34m\u001b[0m\u001b[0;34m\u001b[0m\u001b[0;34m\u001b[0m\u001b[0m\n\u001b[1;32m    653\u001b[0m         \u001b[0mself\u001b[0m\u001b[0;34m.\u001b[0m\u001b[0m_adapt_population_size\u001b[0m\u001b[0;34m(\u001b[0m\u001b[0mt0\u001b[0m\u001b[0;34m)\u001b[0m\u001b[0;34m\u001b[0m\u001b[0;34m\u001b[0m\u001b[0m\n",
      "\u001b[0;32m~/opt/anaconda3/lib/python3.7/site-packages/pyabc/inference/smc.py\u001b[0m in \u001b[0;36m_fit_transitions\u001b[0;34m(self, t)\u001b[0m\n\u001b[1;32m    856\u001b[0m \u001b[0;34m\u001b[0m\u001b[0m\n\u001b[1;32m    857\u001b[0m         \u001b[0;32mfor\u001b[0m \u001b[0mm\u001b[0m \u001b[0;32min\u001b[0m \u001b[0mself\u001b[0m\u001b[0;34m.\u001b[0m\u001b[0mhistory\u001b[0m\u001b[0;34m.\u001b[0m\u001b[0malive_models\u001b[0m\u001b[0;34m(\u001b[0m\u001b[0mt\u001b[0m \u001b[0;34m-\u001b[0m \u001b[0;36m1\u001b[0m\u001b[0;34m)\u001b[0m\u001b[0;34m:\u001b[0m\u001b[0;34m\u001b[0m\u001b[0;34m\u001b[0m\u001b[0m\n\u001b[0;32m--> 858\u001b[0;31m             \u001b[0mparticles\u001b[0m\u001b[0;34m,\u001b[0m \u001b[0mw\u001b[0m \u001b[0;34m=\u001b[0m \u001b[0mself\u001b[0m\u001b[0;34m.\u001b[0m\u001b[0mhistory\u001b[0m\u001b[0;34m.\u001b[0m\u001b[0mget_distribution\u001b[0m\u001b[0;34m(\u001b[0m\u001b[0mm\u001b[0m\u001b[0;34m,\u001b[0m \u001b[0mt\u001b[0m \u001b[0;34m-\u001b[0m \u001b[0;36m1\u001b[0m\u001b[0;34m)\u001b[0m\u001b[0;34m\u001b[0m\u001b[0;34m\u001b[0m\u001b[0m\n\u001b[0m\u001b[1;32m    859\u001b[0m             \u001b[0mself\u001b[0m\u001b[0;34m.\u001b[0m\u001b[0mtransitions\u001b[0m\u001b[0;34m[\u001b[0m\u001b[0mm\u001b[0m\u001b[0;34m]\u001b[0m\u001b[0;34m.\u001b[0m\u001b[0mfit\u001b[0m\u001b[0;34m(\u001b[0m\u001b[0mparticles\u001b[0m\u001b[0;34m,\u001b[0m \u001b[0mw\u001b[0m\u001b[0;34m)\u001b[0m\u001b[0;34m\u001b[0m\u001b[0;34m\u001b[0m\u001b[0m\n\u001b[1;32m    860\u001b[0m \u001b[0;34m\u001b[0m\u001b[0m\n",
      "\u001b[0;32m~/opt/anaconda3/lib/python3.7/site-packages/pyabc/storage/history.py\u001b[0m in \u001b[0;36mf_wrapper\u001b[0;34m(self, *args, **kwargs)\u001b[0m\n\u001b[1;32m     29\u001b[0m         \u001b[0;32mif\u001b[0m \u001b[0mno_session\u001b[0m\u001b[0;34m:\u001b[0m\u001b[0;34m\u001b[0m\u001b[0;34m\u001b[0m\u001b[0m\n\u001b[1;32m     30\u001b[0m             \u001b[0mself\u001b[0m\u001b[0;34m.\u001b[0m\u001b[0m_make_session\u001b[0m\u001b[0;34m(\u001b[0m\u001b[0;34m)\u001b[0m\u001b[0;34m\u001b[0m\u001b[0;34m\u001b[0m\u001b[0m\n\u001b[0;32m---> 31\u001b[0;31m         \u001b[0mres\u001b[0m \u001b[0;34m=\u001b[0m \u001b[0mf\u001b[0m\u001b[0;34m(\u001b[0m\u001b[0mself\u001b[0m\u001b[0;34m,\u001b[0m \u001b[0;34m*\u001b[0m\u001b[0margs\u001b[0m\u001b[0;34m,\u001b[0m \u001b[0;34m**\u001b[0m\u001b[0mkwargs\u001b[0m\u001b[0;34m)\u001b[0m\u001b[0;34m\u001b[0m\u001b[0;34m\u001b[0m\u001b[0m\n\u001b[0m\u001b[1;32m     32\u001b[0m         \u001b[0;32mif\u001b[0m \u001b[0mno_session\u001b[0m\u001b[0;34m:\u001b[0m\u001b[0;34m\u001b[0m\u001b[0;34m\u001b[0m\u001b[0m\n\u001b[1;32m     33\u001b[0m             \u001b[0mself\u001b[0m\u001b[0;34m.\u001b[0m\u001b[0m_close_session\u001b[0m\u001b[0;34m(\u001b[0m\u001b[0;34m)\u001b[0m\u001b[0;34m\u001b[0m\u001b[0;34m\u001b[0m\u001b[0m\n",
      "\u001b[0;32m~/opt/anaconda3/lib/python3.7/site-packages/pyabc/storage/history.py\u001b[0m in \u001b[0;36mget_distribution\u001b[0;34m(self, m, t)\u001b[0m\n\u001b[1;32m    324\u001b[0m         \u001b[0mw\u001b[0m \u001b[0;34m=\u001b[0m \u001b[0mdf\u001b[0m\u001b[0;34m[\u001b[0m\u001b[0;34m[\u001b[0m\u001b[0;34m\"id\"\u001b[0m\u001b[0;34m,\u001b[0m \u001b[0;34m\"w\"\u001b[0m\u001b[0;34m]\u001b[0m\u001b[0;34m]\u001b[0m\u001b[0;34m.\u001b[0m\u001b[0mdrop_duplicates\u001b[0m\u001b[0;34m(\u001b[0m\u001b[0;34m)\u001b[0m\u001b[0;34m.\u001b[0m\u001b[0mset_index\u001b[0m\u001b[0;34m(\u001b[0m\u001b[0;34m\"id\"\u001b[0m\u001b[0;34m)\u001b[0m\u001b[0;34m.\u001b[0m\u001b[0msort_index\u001b[0m\u001b[0;34m(\u001b[0m\u001b[0;34m)\u001b[0m\u001b[0;34m\u001b[0m\u001b[0;34m\u001b[0m\u001b[0m\n\u001b[1;32m    325\u001b[0m         \u001b[0mw_arr\u001b[0m \u001b[0;34m=\u001b[0m \u001b[0mw\u001b[0m\u001b[0;34m.\u001b[0m\u001b[0mw\u001b[0m\u001b[0;34m.\u001b[0m\u001b[0mvalues\u001b[0m\u001b[0;34m\u001b[0m\u001b[0;34m\u001b[0m\u001b[0m\n\u001b[0;32m--> 326\u001b[0;31m         \u001b[0;32mif\u001b[0m \u001b[0mw_arr\u001b[0m\u001b[0;34m.\u001b[0m\u001b[0msize\u001b[0m \u001b[0;34m>\u001b[0m \u001b[0;36m0\u001b[0m \u001b[0;32mand\u001b[0m \u001b[0;32mnot\u001b[0m \u001b[0mnp\u001b[0m\u001b[0;34m.\u001b[0m\u001b[0misclose\u001b[0m\u001b[0;34m(\u001b[0m\u001b[0mw_arr\u001b[0m\u001b[0;34m.\u001b[0m\u001b[0msum\u001b[0m\u001b[0;34m(\u001b[0m\u001b[0;34m)\u001b[0m\u001b[0;34m,\u001b[0m \u001b[0;36m1\u001b[0m\u001b[0;34m)\u001b[0m\u001b[0;34m:\u001b[0m\u001b[0;34m\u001b[0m\u001b[0;34m\u001b[0m\u001b[0m\n\u001b[0m\u001b[1;32m    327\u001b[0m             raise AssertionError(\n\u001b[1;32m    328\u001b[0m                 \"Weight not close to 1, w.sum()={}\".format(w_arr.sum()))\n",
      "\u001b[0;32m~/opt/anaconda3/lib/python3.7/site-packages/numpy/core/_methods.py\u001b[0m in \u001b[0;36m_sum\u001b[0;34m(a, axis, dtype, out, keepdims, initial, where)\u001b[0m\n\u001b[1;32m     45\u001b[0m def _sum(a, axis=None, dtype=None, out=None, keepdims=False,\n\u001b[1;32m     46\u001b[0m          initial=_NoValue, where=True):\n\u001b[0;32m---> 47\u001b[0;31m     \u001b[0;32mreturn\u001b[0m \u001b[0mumr_sum\u001b[0m\u001b[0;34m(\u001b[0m\u001b[0ma\u001b[0m\u001b[0;34m,\u001b[0m \u001b[0maxis\u001b[0m\u001b[0;34m,\u001b[0m \u001b[0mdtype\u001b[0m\u001b[0;34m,\u001b[0m \u001b[0mout\u001b[0m\u001b[0;34m,\u001b[0m \u001b[0mkeepdims\u001b[0m\u001b[0;34m,\u001b[0m \u001b[0minitial\u001b[0m\u001b[0;34m,\u001b[0m \u001b[0mwhere\u001b[0m\u001b[0;34m)\u001b[0m\u001b[0;34m\u001b[0m\u001b[0;34m\u001b[0m\u001b[0m\n\u001b[0m\u001b[1;32m     48\u001b[0m \u001b[0;34m\u001b[0m\u001b[0m\n\u001b[1;32m     49\u001b[0m def _prod(a, axis=None, dtype=None, out=None, keepdims=False,\n",
      "\u001b[0;31mTypeError\u001b[0m: unsupported operand type(s) for +: 'NoneType' and 'NoneType'"
     ]
    }
   ],
   "source": [
    "abc_history = abc.run(max_nr_populations=10, minimum_epsilon=1.0)"
   ]
  },
  {
   "cell_type": "code",
   "execution_count": 83,
   "metadata": {},
   "outputs": [
    {
     "ename": "NameError",
     "evalue": "name 'abc_history' is not defined",
     "output_type": "error",
     "traceback": [
      "\u001b[0;31m---------------------------------------------------------------------------\u001b[0m",
      "\u001b[0;31mNameError\u001b[0m                                 Traceback (most recent call last)",
      "\u001b[0;32m<ipython-input-83-676e86cc020e>\u001b[0m in \u001b[0;36m<module>\u001b[0;34m\u001b[0m\n\u001b[1;32m      1\u001b[0m \u001b[0m_\u001b[0m\u001b[0;34m,\u001b[0m \u001b[0marr_ax\u001b[0m \u001b[0;34m=\u001b[0m \u001b[0mplt\u001b[0m\u001b[0;34m.\u001b[0m\u001b[0msubplots\u001b[0m\u001b[0;34m(\u001b[0m\u001b[0;36m2\u001b[0m\u001b[0;34m,\u001b[0m \u001b[0;36m2\u001b[0m\u001b[0;34m)\u001b[0m\u001b[0;34m\u001b[0m\u001b[0;34m\u001b[0m\u001b[0m\n\u001b[0;32m----> 2\u001b[0;31m \u001b[0mpyabc\u001b[0m\u001b[0;34m.\u001b[0m\u001b[0mvisualization\u001b[0m\u001b[0;34m.\u001b[0m\u001b[0mplot_sample_numbers\u001b[0m\u001b[0;34m(\u001b[0m\u001b[0mabc_history\u001b[0m\u001b[0;34m,\u001b[0m \u001b[0max\u001b[0m\u001b[0;34m=\u001b[0m\u001b[0marr_ax\u001b[0m\u001b[0;34m[\u001b[0m\u001b[0;36m0\u001b[0m\u001b[0;34m]\u001b[0m\u001b[0;34m[\u001b[0m\u001b[0;36m0\u001b[0m\u001b[0;34m]\u001b[0m\u001b[0;34m)\u001b[0m\u001b[0;34m\u001b[0m\u001b[0;34m\u001b[0m\u001b[0m\n\u001b[0m\u001b[1;32m      3\u001b[0m \u001b[0mpyabc\u001b[0m\u001b[0;34m.\u001b[0m\u001b[0mvisualization\u001b[0m\u001b[0;34m.\u001b[0m\u001b[0mplot_epsilons\u001b[0m\u001b[0;34m(\u001b[0m\u001b[0mabc_history\u001b[0m\u001b[0;34m,\u001b[0m \u001b[0max\u001b[0m\u001b[0;34m=\u001b[0m\u001b[0marr_ax\u001b[0m\u001b[0;34m[\u001b[0m\u001b[0;36m0\u001b[0m\u001b[0;34m]\u001b[0m\u001b[0;34m[\u001b[0m\u001b[0;36m1\u001b[0m\u001b[0;34m]\u001b[0m\u001b[0;34m)\u001b[0m\u001b[0;34m\u001b[0m\u001b[0;34m\u001b[0m\u001b[0m\n\u001b[1;32m      4\u001b[0m \u001b[0mpyabc\u001b[0m\u001b[0;34m.\u001b[0m\u001b[0mvisualization\u001b[0m\u001b[0;34m.\u001b[0m\u001b[0mplot_effective_sample_sizes\u001b[0m\u001b[0;34m(\u001b[0m\u001b[0mabc_history\u001b[0m\u001b[0;34m,\u001b[0m \u001b[0max\u001b[0m\u001b[0;34m=\u001b[0m\u001b[0marr_ax\u001b[0m\u001b[0;34m[\u001b[0m\u001b[0;36m1\u001b[0m\u001b[0;34m]\u001b[0m\u001b[0;34m[\u001b[0m\u001b[0;36m1\u001b[0m\u001b[0;34m]\u001b[0m\u001b[0;34m)\u001b[0m\u001b[0;34m\u001b[0m\u001b[0;34m\u001b[0m\u001b[0m\n\u001b[1;32m      5\u001b[0m \u001b[0;34m\u001b[0m\u001b[0m\n",
      "\u001b[0;31mNameError\u001b[0m: name 'abc_history' is not defined"
     ]
    },
    {
     "data": {
      "image/png": "[encoded data removed]",
      "text/plain": [
       "<Figure size 1080x720 with 4 Axes>"
      ]
     },
     "metadata": {
      "needs_background": "light"
     },
     "output_type": "display_data"
    }
   ],
   "source": [
    "_, arr_ax = plt.subplots(2, 2)\n",
    "pyabc.visualization.plot_sample_numbers(abc_history, ax=arr_ax[0][0])\n",
    "pyabc.visualization.plot_epsilons(abc_history, ax=arr_ax[0][1])\n",
    "pyabc.visualization.plot_effective_sample_sizes(abc_history, ax=arr_ax[1][1])\n",
    "\n",
    "plt.gcf().set_size_inches((12, 8))\n",
    "plt.gcf().tight_layout()\n",
    "plt.show()"
   ]
  },
  {
   "cell_type": "code",
   "execution_count": 34,
   "metadata": {},
   "outputs": [
    {
     "data": {
      "text/plain": [
       "<matplotlib.legend.Legend at 0x7fcdd8f423d0>"
      ]
     },
     "execution_count": 34,
     "metadata": {},
     "output_type": "execute_result"
    },
    {
     "data": {
      "image/png": "[encoded data removed]",
      "text/plain": [
       "<Figure size 432x288 with 1 Axes>"
      ]
     },
     "metadata": {
      "needs_background": "light"
     },
     "output_type": "display_data"
    }
   ],
   "source": [
    "fig, ax = plt.subplots(1)\n",
    "for i, param in enumerate(priors.keys()):\n",
    "    for t in range(abc_history.max_t+1):\n",
    "        df, w = abc_history.get_distribution(m=0, t=t)\n",
    "        pyabc.visualization.plot_kde_1d(df, w, x=param, ax=ax, xmin = 80, xmax= 98,\n",
    "                                        label=f\"{param} PDF t={t}\",\n",
    "                                        # Make earlier populations transparent\n",
    "                                        color=\"black\" if t == abc_history.max_t else None  # Make the last one black\n",
    "                                        )\n",
    "ax.legend()\n"
   ]
  },
  {
   "cell_type": "code",
   "execution_count": 50,
   "metadata": {},
   "outputs": [
    {
     "name": "stdout",
     "output_type": "stream",
     "text": [
      "t:0, mode:89.857143\n",
      "t:1, mode:88.918367\n",
      "t:2, mode:88.000000\n",
      "t:3, mode:88.000000\n",
      "t:4, mode:88.000000\n",
      "t:5, mode:88.000000\n",
      "t:6, mode:88.000000\n",
      "t:7, mode:88.000000\n",
      "t:8, mode:86.040816\n",
      "t:9, mode:88.000000\n"
     ]
    }
   ],
   "source": [
    "for i, param in enumerate(priors.keys()):\n",
    "    for t in range(abc_history.max_t+1):\n",
    "        df, w = abc_history.get_distribution(m=0, t=t)\n",
    "        X, Y = pyabc.visualization.kde.kde_1d(df, w, x = param)\n",
    "        mode = X[np.where(Y == max(Y))]\n",
    "        print('t:%d, mode:%f' % (t, mode))"
   ]
  },
  {
   "cell_type": "markdown",
   "metadata": {},
   "source": [
    "## Infected plotting example"
   ]
  },
  {
   "cell_type": "code",
   "execution_count": 151,
   "metadata": {},
   "outputs": [],
   "source": [
    "# plt.rcParams[\"figure.figsize\"] = (20,10)\n",
    "# plt.rcParams.update({'font.size': 22})"
   ]
  },
  {
   "cell_type": "code",
   "execution_count": null,
   "metadata": {},
   "outputs": [],
   "source": [
    "# small_data = df.loc[df['model_number']==0, :]\n",
    "# small_data.shape"
   ]
  },
  {
   "cell_type": "code",
   "execution_count": null,
   "metadata": {},
   "outputs": [],
   "source": [
    "# copy_numbers = small_data['copy_number'].unique()\n",
    "\n",
    "# plt.figure()\n",
    "# #tdf temporary dataframe to keep info within\n",
    "# for copy_number in copy_numbers:\n",
    "#     tdf = small_data.loc[small_data['copy_number']==copy_number, :]\n",
    "#     plt.plot(tdf['t'], tdf['num_infected'], label=copy_number)\n",
    "# plt.legend()\n",
    "# plt.xlabel('Time')\n",
    "# plt.ylabel('Number of infected')\n",
    "# plt.show()"
   ]
  },
  {
   "cell_type": "code",
   "execution_count": null,
   "metadata": {},
   "outputs": [],
   "source": [
    "# import seaborn as sns\n",
    "# plt.figure()\n",
    "# sns.lineplot(data=small_data, x='t', y='num_infected', hue='copy_number')\n",
    "# plt.show()"
   ]
  },
  {
   "cell_type": "code",
   "execution_count": null,
   "metadata": {},
   "outputs": [],
   "source": []
  }
 ],
 "metadata": {
  "kernelspec": {
   "display_name": "Python 3",
   "language": "python",
   "name": "python3"
  },
  "language_info": {
   "codemirror_mode": {
    "name": "ipython",
    "version": 3
   },
   "file_extension": ".py",
   "mimetype": "text/x-python",
   "name": "python",
   "nbconvert_exporter": "python",
   "pygments_lexer": "ipython3",
   "version": "3.7.9"
  }
 },
 "nbformat": 4,
 "nbformat_minor": 4
}
